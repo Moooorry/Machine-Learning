{
 "cells": [
  {
   "cell_type": "markdown",
   "metadata": {},
   "source": [
    "Machine Learning 2019 - 2020 <br>\n",
    "Week 1 - Workshop on Python preliminaries <br>\n",
    "Lecturer: Dr George Leontidis <br>\n",
    "Demonstrators: Wayne Andrew, Francesco Del Duchetto, George Onoufriou <br>\n",
    "\n",
    "# INTRODUCTION <br>\n",
    "\n",
    "As we discussed during the lecture this week is devoted on introducing the module and you having the chance to (re) visit some basic principles on python. It also provide you with an introduction to Anaconda and the use of notebook for writing code interactively.\n",
    "There exists a set of simple examples on numpy. Please try to solve as many as you can. \n",
    "Solutions will be provided separately.\n",
    "\n",
    "\n",
    "# EXERCISE\n",
    "\n",
    "Please try to fill the gaps in the code below"
   ]
  },
  {
   "cell_type": "code",
   "execution_count": 6,
   "metadata": {},
   "outputs": [
    {
     "name": "stdout",
     "output_type": "stream",
     "text": [
      "1.16.4\n"
     ]
    }
   ],
   "source": [
    "#Import numpy as np and print the version number\n",
    "#####\n",
    "\n",
    "#Insert your code here\n",
    "import numpy as np\n",
    "print(np.__version__)\n",
    "\n",
    "#####"
   ]
  },
  {
   "cell_type": "code",
   "execution_count": 25,
   "metadata": {},
   "outputs": [
    {
     "data": {
      "text/plain": [
       "array([0, 1, 2, 3, 4, 5, 6, 7, 8])"
      ]
     },
     "execution_count": 25,
     "metadata": {},
     "output_type": "execute_result"
    }
   ],
   "source": [
    "#Create a 1D array of numbers from 0 to 8\n",
    "\n",
    "#####\n",
    "\n",
    "\n",
    "#Insert your code here\n",
    "a = np.arange(9)\n",
    "a\n",
    "\n",
    "#####"
   ]
  },
  {
   "cell_type": "code",
   "execution_count": 31,
   "metadata": {},
   "outputs": [
    {
     "data": {
      "text/plain": [
       "array([[ True,  True,  True,  True,  True],\n",
       "       [ True,  True,  True,  True,  True],\n",
       "       [ True,  True,  True,  True,  True],\n",
       "       [ True,  True,  True,  True,  True],\n",
       "       [ True,  True,  True,  True,  True]])"
      ]
     },
     "execution_count": 31,
     "metadata": {},
     "output_type": "execute_result"
    }
   ],
   "source": [
    " #Create a 5×5 numpy array of all True’s\n",
    "    \n",
    "#####\n",
    "\n",
    "\n",
    "#Insert your code here\n",
    "np.full((5,5),True)\n",
    "\n",
    "\n",
    "#####"
   ]
  },
  {
   "cell_type": "code",
   "execution_count": 35,
   "metadata": {},
   "outputs": [
    {
     "data": {
      "text/plain": [
       "array([0, 2, 4, 6, 8])"
      ]
     },
     "execution_count": 35,
     "metadata": {},
     "output_type": "execute_result"
    }
   ],
   "source": [
    "#Extract all even numbers from arr\n",
    "#####\n",
    "arr = np.array([0, 1, 2, 3, 4, 5, 6, 7, 8, 9])\n",
    "\n",
    "#Insert your code here\n",
    "arr[ arr%2 == 0]\n",
    "\n",
    "#####"
   ]
  },
  {
   "cell_type": "code",
   "execution_count": 38,
   "metadata": {},
   "outputs": [
    {
     "data": {
      "text/plain": [
       "array([ 1, -3,  3, -3,  5, -3,  7, -3,  9])"
      ]
     },
     "execution_count": 38,
     "metadata": {},
     "output_type": "execute_result"
    }
   ],
   "source": [
    "#Replace all even numbers in arr with -3\n",
    "#####\n",
    "\n",
    "arr = np.array([1, 2, 3, 4, 5, 6, 7, 8, 9])\n",
    "#Insert your code here\n",
    "arr[ arr%2 == 0] = -3\n",
    "arr\n",
    "#####"
   ]
  },
  {
   "cell_type": "code",
   "execution_count": 72,
   "metadata": {},
   "outputs": [
    {
     "data": {
      "text/plain": [
       "array([[ 0,  1,  2,  3,  4,  5,  6],\n",
       "       [ 7,  8,  9, 10, 11, 12, 13]])"
      ]
     },
     "execution_count": 72,
     "metadata": {},
     "output_type": "execute_result"
    }
   ],
   "source": [
    "#Convert a 1D array to a 2D array with 2 rows\n",
    "#####\n",
    "\n",
    "\n",
    "#Insert your code here\n",
    "arr = np.arange(14).reshape(2,-129681471)\n",
    "arr\n",
    "\n",
    "\n",
    "#####"
   ]
  },
  {
   "cell_type": "code",
   "execution_count": 79,
   "metadata": {},
   "outputs": [
    {
     "data": {
      "text/plain": [
       "array([[0, 1, 2, 3, 4],\n",
       "       [5, 6, 7, 8, 9],\n",
       "       [1, 1, 1, 1, 1],\n",
       "       [1, 1, 1, 1, 1]])"
      ]
     },
     "execution_count": 79,
     "metadata": {},
     "output_type": "execute_result"
    }
   ],
   "source": [
    "#Stack arrays a and b vertically\n",
    "\n",
    "#####\n",
    "\n",
    "a = np.arange(10).reshape(2,-1)\n",
    "b = np.repeat(1, 10).reshape(2,-1)\n",
    "#Insert your code here\n",
    "np.vstack([a,b])\n",
    "\n",
    "\n",
    "\n",
    "#####"
   ]
  },
  {
   "cell_type": "code",
   "execution_count": 80,
   "metadata": {},
   "outputs": [
    {
     "data": {
      "text/plain": [
       "array([[0, 1, 2, 3, 4, 1, 1, 1, 1, 1],\n",
       "       [5, 6, 7, 8, 9, 1, 1, 1, 1, 1]])"
      ]
     },
     "execution_count": 80,
     "metadata": {},
     "output_type": "execute_result"
    }
   ],
   "source": [
    "#Stack arrays a and b horizontally\n",
    "\n",
    "#####\n",
    "\n",
    "a = np.arange(10).reshape(2,-1)\n",
    "b = np.repeat(1, 10).reshape(2,-1)\n",
    "#Insert your code here\n",
    "np.hstack([a,b])\n",
    "\n",
    "#####"
   ]
  },
  {
   "cell_type": "code",
   "execution_count": 83,
   "metadata": {},
   "outputs": [
    {
     "data": {
      "text/plain": [
       "array([2, 4])"
      ]
     },
     "execution_count": 83,
     "metadata": {},
     "output_type": "execute_result"
    }
   ],
   "source": [
    "#Get the common items between a and b\n",
    "\n",
    "#####\n",
    "a = np.array([1,2,3,2,3,4,3,4,5,6])\n",
    "b = np.array([7,2,10,2,7,4,9,4,9,8])\n",
    "\n",
    "#Insert your code here\n",
    "np.intersect1d(a,b)\n",
    "\n",
    "#####"
   ]
  },
  {
   "cell_type": "code",
   "execution_count": 84,
   "metadata": {},
   "outputs": [
    {
     "data": {
      "text/plain": [
       "array([6, 7, 8, 9])"
      ]
     },
     "execution_count": 84,
     "metadata": {},
     "output_type": "execute_result"
    }
   ],
   "source": [
    "#From array a remove all items present in array b\n",
    "\n",
    "#####\n",
    "\n",
    "a = np.array([1,2,3,4,5])\n",
    "b = np.array([5,6,7,8,9])\n",
    "#Insert your code here\n",
    "np.setdiff1d(b,a)\n",
    "# Desired Output array([1,2,3,4])\n",
    "#####"
   ]
  },
  {
   "cell_type": "code",
   "execution_count": 85,
   "metadata": {},
   "outputs": [
    {
     "data": {
      "text/plain": [
       "(array([1, 3, 5, 7], dtype=int64),)"
      ]
     },
     "execution_count": 85,
     "metadata": {},
     "output_type": "execute_result"
    }
   ],
   "source": [
    "#Get the positions where elements of a and b match\n",
    "\n",
    "#####\n",
    "\n",
    "a = np.array([1,2,3,2,3,4,3,4,5,6])\n",
    "b = np.array([7,2,10,2,7,4,9,4,9,8])\n",
    "#Insert your code here\n",
    "np.where(a==b)\n",
    "# Desired Output (array([1, 3, 5, 7]),)\n",
    "\n",
    "#####"
   ]
  },
  {
   "cell_type": "code",
   "execution_count": 100,
   "metadata": {},
   "outputs": [
    {
     "data": {
      "text/plain": [
       "array([6., 7., 9., 8., 9., 7., 5.])"
      ]
     },
     "execution_count": 100,
     "metadata": {},
     "output_type": "execute_result"
    }
   ],
   "source": [
    "#Convert the function maxx that works on two scalars, to work on two arrays.\n",
    "\n",
    "\n",
    "#####\n",
    "\n",
    "def maxx(x, y):\n",
    "    \"\"\"Get the maximum of two items\"\"\"\n",
    "    if x >= y:\n",
    "        return x\n",
    "    else:\n",
    "        return y\n",
    "\n",
    "maxx(2, 5)\n",
    "get_max = np.vectorize(maxx,otypes=[float])\n",
    "a = np.array([5, 7, 9, 8, 6, 4, 5])\n",
    "b = np.array([6, 3, 4, 8, 9, 7, 1])\n",
    "get_max(a,b)\n",
    "# Desired Output \n",
    "#a = np.array([5, 7, 9, 8, 6, 4, 5])\n",
    "#b = np.array([6, 3, 4, 8, 9, 7, 1])\n",
    "#pair_max(a, b)\n",
    "# array([ 6.,  7.,  9.,  8.,  9.,  7.,  5.])\n",
    "\n",
    "#####\n",
    "\n"
   ]
  },
  {
   "cell_type": "code",
   "execution_count": 102,
   "metadata": {},
   "outputs": [
    {
     "data": {
      "text/plain": [
       "array([[3, 4, 5],\n",
       "       [0, 1, 2],\n",
       "       [6, 7, 8]])"
      ]
     },
     "execution_count": 102,
     "metadata": {},
     "output_type": "execute_result"
    }
   ],
   "source": [
    "#How to swap two rows in a 2d numpy array?\n",
    "#Swap rows 1 and 2 in the array arr:\n",
    "\n",
    "arr = np.arange(9).reshape(3,3)\n",
    "arr[[1,0,2],:]\n",
    "\n",
    "#desired output\n",
    "#> array([[3, 4, 5],\n",
    "#>        [0, 1, 2],\n",
    "#>        [6, 7, 8]])\n",
    "\n",
    "####"
   ]
  },
  {
   "cell_type": "code",
   "execution_count": 181,
   "metadata": {},
   "outputs": [
    {
     "data": {
      "text/plain": [
       "array([[0.9294, 0.9046, 0.4808],\n",
       "       [0.6989, 0.0576, 0.7118],\n",
       "       [0.3612, 0.5865, 0.842 ],\n",
       "       [0.2642, 0.203 , 0.9636]])"
      ]
     },
     "execution_count": 181,
     "metadata": {},
     "output_type": "execute_result"
    }
   ],
   "source": [
    "#Print or show only 4 decimal places of the numpy array rand_arr\n",
    "\n",
    "#Input included\n",
    "rand_arr = np.random.random((5,3))\n",
    "\n",
    "#Add the part here to create the random array\n",
    "np.set_printoptions(precision=4)\n",
    "rand_arr[1:5]\n",
    "\n",
    "# Limit the output to 4 decimal points\n",
    "\n",
    "\n",
    "#desired output something of that sort\n",
    "#> array([[ 0.4783,  0.2209,  0.9993],\n",
    "#>        [ 0.3868,  0.1347,  0.2191],\n",
    "#>        [ 0.3491,  0.2374,  0.6212],\n",
    "#>        [ 0.8909,  0.4318,  0.4703]])"
   ]
  },
  {
   "cell_type": "code",
   "execution_count": 183,
   "metadata": {},
   "outputs": [
    {
     "name": "stdout",
     "output_type": "stream",
     "text": [
      "3.0540000000000003 3.0 0.4321465800705435\n"
     ]
    }
   ],
   "source": [
    "#Find the mean, median, standard deviation of iris's sepallength (1st column)\n",
    "url = 'https://archive.ics.uci.edu/ml/machine-learning-databases/iris/iris.data'\n",
    "iris = np.genfromtxt(url, delimiter=',', dtype='object')\n",
    "sepalwidth = np.genfromtxt(url, delimiter=',', dtype='float', usecols=[1])\n",
    "\n",
    "# add your code here\n",
    "mu, med, sd = np.mean(sepalwidth), np.median(sepalwidth), np.std(sepalwidth)\n",
    "print(mu, med, sd)\n",
    "#Output of that sort:\n",
    "#3.054 3.0 0.432146580071"
   ]
  },
  {
   "cell_type": "code",
   "execution_count": 185,
   "metadata": {},
   "outputs": [
    {
     "name": "stdout",
     "output_type": "stream",
     "text": [
      "[0.625  0.4167 0.5    0.4583 0.6667 0.7917 0.5833 0.5833 0.375  0.4583\n",
      " 0.7083 0.5833 0.4167 0.4167 0.8333 1.     0.7917 0.625  0.75   0.75\n",
      " 0.5833 0.7083 0.6667 0.5417 0.5833 0.4167 0.5833 0.625  0.5833 0.5\n",
      " 0.4583 0.5833 0.875  0.9167 0.4583 0.5    0.625  0.4583 0.4167 0.5833\n",
      " 0.625  0.125  0.5    0.625  0.75   0.4167 0.75   0.5    0.7083 0.5417\n",
      " 0.5    0.5    0.4583 0.125  0.3333 0.3333 0.5417 0.1667 0.375  0.2917\n",
      " 0.     0.4167 0.0833 0.375  0.375  0.4583 0.4167 0.2917 0.0833 0.2083\n",
      " 0.5    0.3333 0.2083 0.3333 0.375  0.4167 0.3333 0.4167 0.375  0.25\n",
      " 0.1667 0.1667 0.2917 0.2917 0.4167 0.5833 0.4583 0.125  0.4167 0.2083\n",
      " 0.25   0.4167 0.25   0.125  0.2917 0.4167 0.375  0.375  0.2083 0.3333\n",
      " 0.5417 0.2917 0.4167 0.375  0.4167 0.4167 0.2083 0.375  0.2083 0.6667\n",
      " 0.5    0.2917 0.4167 0.2083 0.3333 0.5    0.4167 0.75   0.25   0.0833\n",
      " 0.5    0.3333 0.3333 0.2917 0.5417 0.5    0.3333 0.4167 0.3333 0.4167\n",
      " 0.3333 0.75   0.3333 0.3333 0.25   0.4167 0.5833 0.4583 0.4167 0.4583\n",
      " 0.4583 0.4583 0.2917 0.5    0.5417 0.4167 0.2083 0.4167 0.5833 0.4167]\n"
     ]
    }
   ],
   "source": [
    "#Create a normalized form of iris's sepalwidth whose values range exactly between 0 and 1 so that the minimum has value 0 and maximum has value 1.\n",
    "url = 'https://archive.ics.uci.edu/ml/machine-learning-databases/iris/iris.data'\n",
    "sepalwidth = np.genfromtxt(url, delimiter=',', dtype='float', usecols=[1])\n",
    "\n",
    "# code here\n",
    "Smax, Smin = sepalwidth.max(), sepalwidth.min()\n",
    "S = (sepalwidth - Smin)/sepalwidth.ptp()\n",
    "print(S)\n",
    "#desired output\n",
    "#[ 0.625       0.41666667  0.5         0.45833333  0.66666667  0.79166667\n",
    "# 0.58333333  0.58333333  0.375       0.45833333  0.70833333  0.58333333\n",
    "#0.41666667  0.41666667  0.83333333  1.          0.79166667  0.625       0.75\n",
    "# 0.75        0.58333333  0.70833333  0.66666667  0.54166667  0.58333333\n",
    "# 0.41666667  0.58333333  0.625       0.58333333  0.5         0.45833333\n",
    "# 0.58333333  0.875       0.91666667  0.45833333  0.5         0.625\n",
    "#0.45833333  0.41666667  0.58333333  0.625       0.125       0.5         0.625\n",
    "#0.75        0.41666667  0.75        0.5         0.70833333  0.54166667\n",
    "#0.5         0.5         0.45833333  0.125       0.33333333  0.33333333\n",
    "#0.54166667  0.16666667  0.375       0.29166667  0.          0.41666667\n",
    "#0.08333333  0.375       0.375       0.45833333  0.41666667  0.29166667\n",
    "#0.08333333  0.20833333  0.5         0.33333333  0.20833333  0.33333333\n",
    "#0.375       0.41666667  0.33333333  0.41666667  0.375       0.25\n",
    "#0.16666667  0.16666667  0.29166667  0.29166667  0.41666667  0.58333333\n",
    "#0.45833333  0.125       0.41666667  0.20833333  0.25        0.41666667\n",
    "#0.25        0.125       0.29166667  0.41666667  0.375       0.375\n",
    "#0.20833333  0.33333333  0.54166667  0.29166667  0.41666667  0.375\n",
    "#0.41666667  0.41666667  0.20833333  0.375       0.20833333  0.66666667\n",
    "#0.5         0.29166667  0.41666667  0.20833333  0.33333333  0.5\n",
    "#0.41666667  0.75        0.25        0.08333333  0.5         0.33333333\n",
    "#0.33333333  0.29166667  0.54166667  0.5         0.33333333  0.41666667\n",
    "#0.33333333  0.41666667  0.33333333  0.75        0.33333333  0.33333333\n",
    "#0.25        0.41666667  0.58333333  0.45833333  0.41666667  0.45833333\n",
    "#0.45833333  0.45833333  0.29166667  0.5         0.54166667  0.41666667\n",
    "#0.20833333  0.41666667  0.58333333  0.41666667]\n"
   ]
  },
  {
   "cell_type": "code",
   "execution_count": null,
   "metadata": {
    "collapsed": true
   },
   "outputs": [],
   "source": []
  }
 ],
 "metadata": {
  "kernelspec": {
   "display_name": "Python 3",
   "language": "python",
   "name": "python3"
  },
  "language_info": {
   "codemirror_mode": {
    "name": "ipython",
    "version": 3
   },
   "file_extension": ".py",
   "mimetype": "text/x-python",
   "name": "python",
   "nbconvert_exporter": "python",
   "pygments_lexer": "ipython3",
   "version": "3.7.3"
  }
 },
 "nbformat": 4,
 "nbformat_minor": 2
}
